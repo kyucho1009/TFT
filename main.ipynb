{
 "cells": [
  {
   "cell_type": "code",
   "execution_count": 1,
   "metadata": {},
   "outputs": [],
   "source": [
    "import nest_asyncio\n",
    "nest_asyncio.apply()\n",
    "\n",
    "import os\n",
    "import time\n",
    "import asyncio\n",
    "import aiohttp\n",
    "import pandas as pd\n",
    "from dotenv import load_dotenv\n",
    "\n",
    "load_dotenv()\n",
    "api_key = os.getenv('api_key')\n",
    "\n",
    "request_header = {\n",
    "    \"User-Agent\": \"Mozilla/5.0 (Windows NT 10.0; Win64; x64) AppleWebKit/537.36 (KHTML, like Gecko) Chrome/128.0.0.0 Safari/537.36\",\n",
    "    \"Accept-Language\": \"ko-KR,ko;q=0.9,en-US;q=0.8,en;q=0.7\",\n",
    "    \"Accept-Charset\": \"application/x-www-form-urlencoded; charset=UTF-8\",\n",
    "    \"Origin\": \"https://developer.riotgames.com\",\n",
    "    \"X-Riot-Token\": api_key\n",
    "}\n",
    "\n",
    "base_url = \"https://kr.api.riotgames.com/tft/\"\n",
    "match_base_url = \"https://asia.api.riotgames.com/tft/match/v1/\""
   ]
  },
  {
   "cell_type": "code",
   "execution_count": 2,
   "metadata": {},
   "outputs": [],
   "source": [
    "# 챌린저 유저 데이터 가져오는 함수\n",
    "async def fetch_challenger_data(session: aiohttp.ClientSession):\n",
    "    url = base_url + 'league/v1/challenger'\n",
    "    while True:\n",
    "        async with session.get(url, headers=request_header) as response:\n",
    "            if response.status == 429:  # Rate limit exceeded\n",
    "                retry_after = int(response.headers.get('Retry-After', 1))\n",
    "                await asyncio.sleep(retry_after)\n",
    "                continue\n",
    "            return await response.json()"
   ]
  },
  {
   "cell_type": "code",
   "execution_count": 3,
   "metadata": {},
   "outputs": [],
   "source": [
    "# 매치 아이디 가져오는 함수수\n",
    "async def fetch_match_ids(session: aiohttp.ClientSession, puuid: str, count: int = 20):\n",
    "    url = f\"{match_base_url}matches/by-puuid/{puuid}/ids?count={count}\"\n",
    "    while True:\n",
    "        async with session.get(url, headers=request_header) as response:\n",
    "            if response.status == 429:\n",
    "                retry_after = int(response.headers.get('Retry-After', 1))\n",
    "                await asyncio.sleep(retry_after)\n",
    "                continue\n",
    "            if response.status == 200:\n",
    "                match_ids = await response.json()\n",
    "                return {'puuid': puuid, 'match_ids': match_ids}"
   ]
  },
  {
   "cell_type": "code",
   "execution_count": 4,
   "metadata": {},
   "outputs": [],
   "source": [
    "# 매치 상세 데이터 가져오는 함수\n",
    "async def fetch_match_detail(session: aiohttp.ClientSession, match_id: str):\n",
    "    url = f\"{match_base_url}matches/{match_id}\"\n",
    "    while True:\n",
    "        async with session.get(url, headers=request_header) as response:\n",
    "            if response.status == 429:\n",
    "                retry_after = int(response.headers.get('Retry-After', 1))\n",
    "                await asyncio.sleep(retry_after)\n",
    "                continue\n",
    "            return await response.json()"
   ]
  },
  {
   "cell_type": "code",
   "execution_count": 5,
   "metadata": {},
   "outputs": [],
   "source": [
    "# 챌린저 데이터 DataFrame 생성\n",
    "async def process_challenger_data():\n",
    "    async with aiohttp.ClientSession() as session:\n",
    "        challenger  = await fetch_challenger_data(session)\n",
    "        challenger_df = pd.DataFrame(challenger['entries'])\n",
    "        challenger_df.to_csv('challenger.csv', index=False)\n",
    "        return challenger_df"
   ]
  },
  {
   "cell_type": "code",
   "execution_count": 6,
   "metadata": {},
   "outputs": [],
   "source": [
    "# 매치 아이디 DataFrame 생성\n",
    "async def process_match_ids():\n",
    "    async with aiohttp.ClientSession() as session:\n",
    "        challenger_df = await process_challenger_data()\n",
    "        challenger_puuid = challenger_df['puuid'].tolist()\n",
    "        match_data = []\n",
    "        for puuid in challenger_puuid:\n",
    "            match_ids = await fetch_match_ids(session, puuid)\n",
    "            match_data.append(match_ids)\n",
    "            await asyncio.sleep(1)\n",
    "        match_data_df = pd.DataFrame(match_data)\n",
    "        match_data_df.to_csv('challenger_match_ids.csv', index=False)\n",
    "        return match_data_df"
   ]
  },
  {
   "cell_type": "code",
   "execution_count": 7,
   "metadata": {},
   "outputs": [],
   "source": [
    "async def main():\n",
    "    start_time = time.time()\n",
    "    challenger_df = await process_challenger_data()\n",
    "    challenger_df.to_csv('challenger_user.csv', index=False)\n",
    "    print(f\"처리 시간: {time.time() - start_time:.2f}초\")\n",
    "    print(challenger_df)"
   ]
  },
  {
   "cell_type": "code",
   "execution_count": 8,
   "metadata": {},
   "outputs": [
    {
     "name": "stdout",
     "output_type": "stream",
     "text": [
      "                                            summonerId  \\\n",
      "0      dHC7Lj6ua-tf1_KAkv0OTXNGNUcwSXCVKi0COVTkSW1Eyno   \n",
      "1      d_L7oC_ZLj2XTtx2l83NTZcfsNyMZbmvrmEgvInhW5b6p40   \n",
      "2    _w17WMTe0OnGCRP3E5GmDtLwLuuPWjFa4AdjMju9rpJ6va...   \n",
      "3      rCboap1-tmroGQdxNfxR0ifh1KyrJ0lpzppPraO7TCi5o0Q   \n",
      "4      AIJes1lZD8ycle3VVWhH0t8ZtYTB9HqI9jGtPExcR50SOhg   \n",
      "..                                                 ...   \n",
      "295    SERFONLIrMKHYOmgAifngLh2_dLHUSk8QtzbpbcBEGfY5c8   \n",
      "296  6umbsrTWP8_eiIwGm90Mt20WoGTBUAWs-fCrJ_WvYmSe5K...   \n",
      "297    7Qk51zoj2RG-sYTleflFiDzOooNfJQ8UBqBmmRkIujnQigQ   \n",
      "298   KqC-TRVchC9XXIBpyB3pTeeJbiz8PORYdxxsb6Wc6jQInbIA   \n",
      "299     ROl4BUpRg25LfFPGIBn7z5tz90MPrdaIBaDXcbe2Hm0Qfw   \n",
      "\n",
      "                                                 puuid  leaguePoints rank  \\\n",
      "0    fS2PZn5F89qCGQCUW_vDBw5WPCiblNvA9VDvuPts3zeHPi...          1760    I   \n",
      "1    I9oeXQ-436Y7bT5qgUbodeTFzcQ1-Ln-FnCCwq2LmKK1qd...          1739    I   \n",
      "2    GnJrE9eq5jOPNWkP_bFqRx3I9jA8mTbGqT86GmFRp9Nqzq...          1725    I   \n",
      "3    anc9xtqE6sUfnVr8kOL0zL6bwZk8awsv70BuGWdeUhJW7z...          1715    I   \n",
      "4    Wlknx5Edx9VJK9RzNoMK7rotOjXpE8F61VhnGkLVeDCtaP...          1679    I   \n",
      "..                                                 ...           ...  ...   \n",
      "295  PA926h7WkKKlt6HIeWk8yyjnjy3XMBGHPVZ5IES1xx8VxO...           760    I   \n",
      "296  N1m43HKgQbXc-KrT8NKh60n_QAjxAOnNlohBuIeRRB9GfQ...           754    I   \n",
      "297  lQeh9ENNxGepJSQxs4ngnzAvrziIzNoYwWwkrIclPD3-1Z...           748    I   \n",
      "298  TsYuQHqF_QQ-krdzAGAuYn7eA-evw-PU0xbWSkq0ZR6k1R...           738    I   \n",
      "299  kxHgirf7OOgzzyRT0hn3kVSanAuABvuiOiJIKstKd_hZ0v...           648    I   \n",
      "\n",
      "     wins  losses  veteran  inactive  freshBlood  hotStreak  \n",
      "0     392     215     True     False       False       True  \n",
      "1     255     125     True     False       False      False  \n",
      "2     171      69     True     False       False       True  \n",
      "3     278     167     True     False       False      False  \n",
      "4     369     237     True     False       False      False  \n",
      "..    ...     ...      ...       ...         ...        ...  \n",
      "295   398     381    False     False        True      False  \n",
      "296   351     332    False     False        True      False  \n",
      "297   221     184    False     False        True      False  \n",
      "298   221     174    False     False        True      False  \n",
      "299   273     211     True     False       False      False  \n",
      "\n",
      "[300 rows x 10 columns]\n",
      "                                                 puuid  \\\n",
      "0    fS2PZn5F89qCGQCUW_vDBw5WPCiblNvA9VDvuPts3zeHPi...   \n",
      "1    I9oeXQ-436Y7bT5qgUbodeTFzcQ1-Ln-FnCCwq2LmKK1qd...   \n",
      "2    GnJrE9eq5jOPNWkP_bFqRx3I9jA8mTbGqT86GmFRp9Nqzq...   \n",
      "3    anc9xtqE6sUfnVr8kOL0zL6bwZk8awsv70BuGWdeUhJW7z...   \n",
      "4    Wlknx5Edx9VJK9RzNoMK7rotOjXpE8F61VhnGkLVeDCtaP...   \n",
      "..                                                 ...   \n",
      "295  PA926h7WkKKlt6HIeWk8yyjnjy3XMBGHPVZ5IES1xx8VxO...   \n",
      "296  N1m43HKgQbXc-KrT8NKh60n_QAjxAOnNlohBuIeRRB9GfQ...   \n",
      "297  lQeh9ENNxGepJSQxs4ngnzAvrziIzNoYwWwkrIclPD3-1Z...   \n",
      "298  TsYuQHqF_QQ-krdzAGAuYn7eA-evw-PU0xbWSkq0ZR6k1R...   \n",
      "299  kxHgirf7OOgzzyRT0hn3kVSanAuABvuiOiJIKstKd_hZ0v...   \n",
      "\n",
      "                                             match_ids  \n",
      "0    [KR_7648853277, KR_7648801847, KR_7648772944, ...  \n",
      "1    [KR_7649972145, KR_7649927174, KR_7649902404, ...  \n",
      "2    [KR_7648675455, KR_7648660572, KR_7648654139, ...  \n",
      "3    [KR_7649990737, KR_7649964548, KR_7649934463, ...  \n",
      "4    [KR_7645678213, KR_7645591624, KR_7645514394, ...  \n",
      "..                                                 ...  \n",
      "295  [KR_7649816966, KR_7649804337, KR_7649780670, ...  \n",
      "296  [KR_7649752168, KR_7649744270, KR_7649733398, ...  \n",
      "297  [KR_7649986388, KR_7649966195, KR_7649943099, ...  \n",
      "298  [KR_7649986388, KR_7649943099, KR_7649912987, ...  \n",
      "299  [KR_7649703297, KR_7649689720, KR_7649677641, ...  \n",
      "\n",
      "[300 rows x 2 columns]\n"
     ]
    }
   ],
   "source": [
    "async def main():\n",
    "    challenger_df = await process_challenger_data()\n",
    "    print(challenger_df)\n",
    "    match_ids_df = await process_match_ids()\n",
    "    print(match_ids_df)\n",
    "\n",
    "await main()"
   ]
  },
  {
   "cell_type": "code",
   "execution_count": 18,
   "metadata": {},
   "outputs": [],
   "source": [
    "# 챌린저 유저 데이터 저장\n",
    "import pymysql\n",
    "\n",
    "conn = pymysql.connect(\n",
    "    host='localhost',\n",
    "    user='root',\n",
    "    password='Chokh091002!',\n",
    "    db='tft',\n",
    "    charset='utf8'\n",
    ")\n",
    "\n",
    "cursor = conn.cursor(pymysql.cursors.DictCursor)\n",
    "\n",
    "query = \"create table if not exists challenger_user (summonerId varchar(255), puuid varchar(255), leaguePoints int, `rank` varchar(255), wins int, losses int)\"\n",
    "cursor.execute(query)\n",
    "challenger = pd.read_csv('challenger_user.csv')\n",
    "for index, row in challenger.iterrows():\n",
    "    query = \"insert into challenger_user (summonerId, puuid, leaguePoints, `rank`, wins, losses) values (%s, %s, %s, %s, %s, %s)\"\n",
    "    cursor.execute(query, (row['summonerId'], row['puuid'], row['leaguePoints'], row['rank'], row['wins'], row['losses']))\n",
    "conn.commit()\n",
    "conn.close()"
   ]
  },
  {
   "cell_type": "code",
   "execution_count": 21,
   "metadata": {},
   "outputs": [
    {
     "ename": "InterfaceError",
     "evalue": "(0, '')",
     "output_type": "error",
     "traceback": [
      "\u001b[0;31m---------------------------------------------------------------------------\u001b[0m",
      "\u001b[0;31mInterfaceError\u001b[0m                            Traceback (most recent call last)",
      "Cell \u001b[0;32mIn[21], line 2\u001b[0m\n\u001b[1;32m      1\u001b[0m query \u001b[38;5;241m=\u001b[39m \u001b[38;5;124m\"\u001b[39m\u001b[38;5;124mcreate table if not exist challenger_matchID (puuid varchar(255), match_ids list)\u001b[39m\u001b[38;5;124m\"\u001b[39m\n\u001b[0;32m----> 2\u001b[0m \u001b[43mcursor\u001b[49m\u001b[38;5;241;43m.\u001b[39;49m\u001b[43mexecute\u001b[49m\u001b[43m(\u001b[49m\u001b[43mquery\u001b[49m\u001b[43m)\u001b[49m\n\u001b[1;32m      3\u001b[0m challenger_matchID \u001b[38;5;241m=\u001b[39m pd\u001b[38;5;241m.\u001b[39mread_csv(\u001b[38;5;124m'\u001b[39m\u001b[38;5;124mchallenger_match_ids.csv\u001b[39m\u001b[38;5;124m'\u001b[39m)\n\u001b[1;32m      4\u001b[0m \u001b[38;5;28;01mfor\u001b[39;00m index, row \u001b[38;5;129;01min\u001b[39;00m challenger_matchID\u001b[38;5;241m.\u001b[39miterrows():\n",
      "File \u001b[0;32m~/.local/lib/python3.8/site-packages/pymysql/cursors.py:153\u001b[0m, in \u001b[0;36mCursor.execute\u001b[0;34m(self, query, args)\u001b[0m\n\u001b[1;32m    149\u001b[0m     \u001b[38;5;28;01mpass\u001b[39;00m\n\u001b[1;32m    151\u001b[0m query \u001b[38;5;241m=\u001b[39m \u001b[38;5;28mself\u001b[39m\u001b[38;5;241m.\u001b[39mmogrify(query, args)\n\u001b[0;32m--> 153\u001b[0m result \u001b[38;5;241m=\u001b[39m \u001b[38;5;28;43mself\u001b[39;49m\u001b[38;5;241;43m.\u001b[39;49m\u001b[43m_query\u001b[49m\u001b[43m(\u001b[49m\u001b[43mquery\u001b[49m\u001b[43m)\u001b[49m\n\u001b[1;32m    154\u001b[0m \u001b[38;5;28mself\u001b[39m\u001b[38;5;241m.\u001b[39m_executed \u001b[38;5;241m=\u001b[39m query\n\u001b[1;32m    155\u001b[0m \u001b[38;5;28;01mreturn\u001b[39;00m result\n",
      "File \u001b[0;32m~/.local/lib/python3.8/site-packages/pymysql/cursors.py:322\u001b[0m, in \u001b[0;36mCursor._query\u001b[0;34m(self, q)\u001b[0m\n\u001b[1;32m    320\u001b[0m conn \u001b[38;5;241m=\u001b[39m \u001b[38;5;28mself\u001b[39m\u001b[38;5;241m.\u001b[39m_get_db()\n\u001b[1;32m    321\u001b[0m \u001b[38;5;28mself\u001b[39m\u001b[38;5;241m.\u001b[39m_clear_result()\n\u001b[0;32m--> 322\u001b[0m \u001b[43mconn\u001b[49m\u001b[38;5;241;43m.\u001b[39;49m\u001b[43mquery\u001b[49m\u001b[43m(\u001b[49m\u001b[43mq\u001b[49m\u001b[43m)\u001b[49m\n\u001b[1;32m    323\u001b[0m \u001b[38;5;28mself\u001b[39m\u001b[38;5;241m.\u001b[39m_do_get_result()\n\u001b[1;32m    324\u001b[0m \u001b[38;5;28;01mreturn\u001b[39;00m \u001b[38;5;28mself\u001b[39m\u001b[38;5;241m.\u001b[39mrowcount\n",
      "File \u001b[0;32m~/.local/lib/python3.8/site-packages/pymysql/connections.py:562\u001b[0m, in \u001b[0;36mConnection.query\u001b[0;34m(self, sql, unbuffered)\u001b[0m\n\u001b[1;32m    560\u001b[0m \u001b[38;5;28;01mif\u001b[39;00m \u001b[38;5;28misinstance\u001b[39m(sql, \u001b[38;5;28mstr\u001b[39m):\n\u001b[1;32m    561\u001b[0m     sql \u001b[38;5;241m=\u001b[39m sql\u001b[38;5;241m.\u001b[39mencode(\u001b[38;5;28mself\u001b[39m\u001b[38;5;241m.\u001b[39mencoding, \u001b[38;5;124m\"\u001b[39m\u001b[38;5;124msurrogateescape\u001b[39m\u001b[38;5;124m\"\u001b[39m)\n\u001b[0;32m--> 562\u001b[0m \u001b[38;5;28;43mself\u001b[39;49m\u001b[38;5;241;43m.\u001b[39;49m\u001b[43m_execute_command\u001b[49m\u001b[43m(\u001b[49m\u001b[43mCOMMAND\u001b[49m\u001b[38;5;241;43m.\u001b[39;49m\u001b[43mCOM_QUERY\u001b[49m\u001b[43m,\u001b[49m\u001b[43m \u001b[49m\u001b[43msql\u001b[49m\u001b[43m)\u001b[49m\n\u001b[1;32m    563\u001b[0m \u001b[38;5;28mself\u001b[39m\u001b[38;5;241m.\u001b[39m_affected_rows \u001b[38;5;241m=\u001b[39m \u001b[38;5;28mself\u001b[39m\u001b[38;5;241m.\u001b[39m_read_query_result(unbuffered\u001b[38;5;241m=\u001b[39munbuffered)\n\u001b[1;32m    564\u001b[0m \u001b[38;5;28;01mreturn\u001b[39;00m \u001b[38;5;28mself\u001b[39m\u001b[38;5;241m.\u001b[39m_affected_rows\n",
      "File \u001b[0;32m~/.local/lib/python3.8/site-packages/pymysql/connections.py:843\u001b[0m, in \u001b[0;36mConnection._execute_command\u001b[0;34m(self, command, sql)\u001b[0m\n\u001b[1;32m    838\u001b[0m \u001b[38;5;250m\u001b[39m\u001b[38;5;124;03m\"\"\"\u001b[39;00m\n\u001b[1;32m    839\u001b[0m \u001b[38;5;124;03m:raise InterfaceError: If the connection is closed.\u001b[39;00m\n\u001b[1;32m    840\u001b[0m \u001b[38;5;124;03m:raise ValueError: If no username was specified.\u001b[39;00m\n\u001b[1;32m    841\u001b[0m \u001b[38;5;124;03m\"\"\"\u001b[39;00m\n\u001b[1;32m    842\u001b[0m \u001b[38;5;28;01mif\u001b[39;00m \u001b[38;5;129;01mnot\u001b[39;00m \u001b[38;5;28mself\u001b[39m\u001b[38;5;241m.\u001b[39m_sock:\n\u001b[0;32m--> 843\u001b[0m     \u001b[38;5;28;01mraise\u001b[39;00m err\u001b[38;5;241m.\u001b[39mInterfaceError(\u001b[38;5;241m0\u001b[39m, \u001b[38;5;124m\"\u001b[39m\u001b[38;5;124m\"\u001b[39m)\n\u001b[1;32m    845\u001b[0m \u001b[38;5;66;03m# If the last query was unbuffered, make sure it finishes before\u001b[39;00m\n\u001b[1;32m    846\u001b[0m \u001b[38;5;66;03m# sending new commands\u001b[39;00m\n\u001b[1;32m    847\u001b[0m \u001b[38;5;28;01mif\u001b[39;00m \u001b[38;5;28mself\u001b[39m\u001b[38;5;241m.\u001b[39m_result \u001b[38;5;129;01mis\u001b[39;00m \u001b[38;5;129;01mnot\u001b[39;00m \u001b[38;5;28;01mNone\u001b[39;00m:\n",
      "\u001b[0;31mInterfaceError\u001b[0m: (0, '')"
     ]
    }
   ],
   "source": [
    "query = \"create table if not exist challenger_matchID (puuid varchar(255), match_ids list)\"\n",
    "cursor.execute(query)\n",
    "challenger_matchID = pd.read_csv('challenger_match_ids.csv')\n",
    "for index, row in challenger_matchID.iterrows():\n",
    "    query = \"insert into challenger_matchID (puuid, matchID) values (%s, %s)\"\n",
    "    cursor.execute(query, (row['puuid'], row['matchID']))\n",
    "conn.commit()\n",
    "cursor.close()\n",
    "conn.close()"
   ]
  }
 ],
 "metadata": {
  "kernelspec": {
   "display_name": "Python 3",
   "language": "python",
   "name": "python3"
  },
  "language_info": {
   "codemirror_mode": {
    "name": "ipython",
    "version": 3
   },
   "file_extension": ".py",
   "mimetype": "text/x-python",
   "name": "python",
   "nbconvert_exporter": "python",
   "pygments_lexer": "ipython3",
   "version": "3.8.10"
  }
 },
 "nbformat": 4,
 "nbformat_minor": 2
}
